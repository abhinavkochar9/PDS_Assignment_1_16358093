{
  "cells": [
    {
      "cell_type": "markdown",
      "metadata": {
        "id": "iIPcktzmC22s"
      },
      "source": [
        "## **#Assignment1**"
      ]
    },
    {
      "cell_type": "markdown",
      "metadata": {
        "id": "iU8LtXr6Cw04"
      },
      "source": [
        "##*1) Frailty is physical weakness; lack of health or strength. Reduced grip strength in females correlated with higher frailty scores and vice versa. Hand grip strength can be quantified by measuring the amount of static force that the hand can squeeze around a dynamometer. The force has most commonly been measured in kilograms and pounds. The table below represents data from 10 female participants. The Height is measured in inches, Weight in pounds, Age in years, Grip strength in kilograms. Frailty is qualitative attribute indicated the presence or absence of the symptoms. (10 points).*"
      ]
    },
    {
      "cell_type": "code",
      "execution_count": 45,
      "metadata": {
        "colab": {
          "base_uri": "https://localhost:8080/",
          "height": 206
        },
        "id": "Vqk1UZIBDERC",
        "outputId": "0ec70cd5-60f2-47e7-a06f-538ece710e3e"
      },
      "outputs": [
        {
          "data": {
            "text/html": [
              "<div>\n",
              "<style scoped>\n",
              "    .dataframe tbody tr th:only-of-type {\n",
              "        vertical-align: middle;\n",
              "    }\n",
              "\n",
              "    .dataframe tbody tr th {\n",
              "        vertical-align: top;\n",
              "    }\n",
              "\n",
              "    .dataframe thead th {\n",
              "        text-align: right;\n",
              "    }\n",
              "</style>\n",
              "<table border=\"1\" class=\"dataframe\">\n",
              "  <thead>\n",
              "    <tr style=\"text-align: right;\">\n",
              "      <th></th>\n",
              "      <th>Height</th>\n",
              "      <th>Weight</th>\n",
              "      <th>Age</th>\n",
              "      <th>Grip strength</th>\n",
              "      <th>Frailty</th>\n",
              "    </tr>\n",
              "  </thead>\n",
              "  <tbody>\n",
              "    <tr>\n",
              "      <th>0</th>\n",
              "      <td>65.8</td>\n",
              "      <td>112</td>\n",
              "      <td>30</td>\n",
              "      <td>30</td>\n",
              "      <td>N</td>\n",
              "    </tr>\n",
              "    <tr>\n",
              "      <th>1</th>\n",
              "      <td>71.5</td>\n",
              "      <td>136</td>\n",
              "      <td>19</td>\n",
              "      <td>31</td>\n",
              "      <td>N</td>\n",
              "    </tr>\n",
              "    <tr>\n",
              "      <th>2</th>\n",
              "      <td>69.4</td>\n",
              "      <td>153</td>\n",
              "      <td>45</td>\n",
              "      <td>29</td>\n",
              "      <td>N</td>\n",
              "    </tr>\n",
              "    <tr>\n",
              "      <th>3</th>\n",
              "      <td>68.2</td>\n",
              "      <td>142</td>\n",
              "      <td>22</td>\n",
              "      <td>28</td>\n",
              "      <td>Y</td>\n",
              "    </tr>\n",
              "    <tr>\n",
              "      <th>4</th>\n",
              "      <td>67.8</td>\n",
              "      <td>144</td>\n",
              "      <td>29</td>\n",
              "      <td>24</td>\n",
              "      <td>Y</td>\n",
              "    </tr>\n",
              "  </tbody>\n",
              "</table>\n",
              "</div>"
            ],
            "text/plain": [
              "   Height  Weight  Age  Grip strength Frailty\n",
              "0    65.8     112   30             30       N\n",
              "1    71.5     136   19             31       N\n",
              "2    69.4     153   45             29       N\n",
              "3    68.2     142   22             28       Y\n",
              "4    67.8     144   29             24       Y"
            ]
          },
          "metadata": {},
          "output_type": "display_data"
        }
      ],
      "source": [
        "import pandas as pd\n",
        "\n",
        "df = pd.read_csv('../data/frailty_data.csv')\n",
        "\n",
        "display(df.head())"
      ]
    },
    {
      "cell_type": "markdown",
      "metadata": {
        "id": "8db2e19d"
      },
      "source": [
        "## Unit standardization\n",
        "\n",
        "### Subtask:\n",
        "i. Height_m = Height_in * 0.0254\n",
        "\n",
        "ii. Weight_kg = Weight_lb * 0.45359237\n",
        "\n"
      ]
    },
    {
      "cell_type": "code",
      "execution_count": 46,
      "metadata": {
        "colab": {
          "base_uri": "https://localhost:8080/",
          "height": 206
        },
        "id": "5397c14a",
        "outputId": "0cab8fb8-f522-48e0-bd90-646d015a2949"
      },
      "outputs": [
        {
          "data": {
            "text/html": [
              "<div>\n",
              "<style scoped>\n",
              "    .dataframe tbody tr th:only-of-type {\n",
              "        vertical-align: middle;\n",
              "    }\n",
              "\n",
              "    .dataframe tbody tr th {\n",
              "        vertical-align: top;\n",
              "    }\n",
              "\n",
              "    .dataframe thead th {\n",
              "        text-align: right;\n",
              "    }\n",
              "</style>\n",
              "<table border=\"1\" class=\"dataframe\">\n",
              "  <thead>\n",
              "    <tr style=\"text-align: right;\">\n",
              "      <th></th>\n",
              "      <th>Height</th>\n",
              "      <th>Weight</th>\n",
              "      <th>Age</th>\n",
              "      <th>Grip strength</th>\n",
              "      <th>Frailty</th>\n",
              "      <th>Height_m</th>\n",
              "      <th>Weight_kg</th>\n",
              "    </tr>\n",
              "  </thead>\n",
              "  <tbody>\n",
              "    <tr>\n",
              "      <th>0</th>\n",
              "      <td>65.8</td>\n",
              "      <td>112</td>\n",
              "      <td>30</td>\n",
              "      <td>30</td>\n",
              "      <td>N</td>\n",
              "      <td>1.67132</td>\n",
              "      <td>50.802345</td>\n",
              "    </tr>\n",
              "    <tr>\n",
              "      <th>1</th>\n",
              "      <td>71.5</td>\n",
              "      <td>136</td>\n",
              "      <td>19</td>\n",
              "      <td>31</td>\n",
              "      <td>N</td>\n",
              "      <td>1.81610</td>\n",
              "      <td>61.688562</td>\n",
              "    </tr>\n",
              "    <tr>\n",
              "      <th>2</th>\n",
              "      <td>69.4</td>\n",
              "      <td>153</td>\n",
              "      <td>45</td>\n",
              "      <td>29</td>\n",
              "      <td>N</td>\n",
              "      <td>1.76276</td>\n",
              "      <td>69.399633</td>\n",
              "    </tr>\n",
              "    <tr>\n",
              "      <th>3</th>\n",
              "      <td>68.2</td>\n",
              "      <td>142</td>\n",
              "      <td>22</td>\n",
              "      <td>28</td>\n",
              "      <td>Y</td>\n",
              "      <td>1.73228</td>\n",
              "      <td>64.410117</td>\n",
              "    </tr>\n",
              "    <tr>\n",
              "      <th>4</th>\n",
              "      <td>67.8</td>\n",
              "      <td>144</td>\n",
              "      <td>29</td>\n",
              "      <td>24</td>\n",
              "      <td>Y</td>\n",
              "      <td>1.72212</td>\n",
              "      <td>65.317301</td>\n",
              "    </tr>\n",
              "  </tbody>\n",
              "</table>\n",
              "</div>"
            ],
            "text/plain": [
              "   Height  Weight  Age  Grip strength Frailty  Height_m  Weight_kg\n",
              "0    65.8     112   30             30       N   1.67132  50.802345\n",
              "1    71.5     136   19             31       N   1.81610  61.688562\n",
              "2    69.4     153   45             29       N   1.76276  69.399633\n",
              "3    68.2     142   22             28       Y   1.73228  64.410117\n",
              "4    67.8     144   29             24       Y   1.72212  65.317301"
            ]
          },
          "metadata": {},
          "output_type": "display_data"
        }
      ],
      "source": [
        "# i. Height_m = Height_in * 0.0254\n",
        "df['Height_m'] = df['Height'] * 0.0254\n",
        "\n",
        "# ii. Weight_kg = Weight_lb * 0.45359237\n",
        "df['Weight_kg'] = df['Weight'] * 0.45359237\n",
        "\n",
        "display(df.head())"
      ]
    },
    {
      "cell_type": "markdown",
      "metadata": {
        "id": "3e4ee8a0"
      },
      "source": [
        "## Feature engineering\n",
        "\n",
        "### Subtask:\n",
        "i. BMI = Weight_kg / (Height_m ** 2) (round to 2 decimals).\n",
        "\n",
        "ii. AgeGroup (categorical): \"<30\", \"30–45\", \"46–60\", \">60\" based on Age_yr.\n"
      ]
    },
    {
      "cell_type": "code",
      "execution_count": 47,
      "metadata": {
        "colab": {
          "base_uri": "https://localhost:8080/",
          "height": 206
        },
        "id": "d6d27737",
        "outputId": "b0e4cede-ed09-4b0d-de95-9481b90ab1b0"
      },
      "outputs": [
        {
          "data": {
            "text/html": [
              "<div>\n",
              "<style scoped>\n",
              "    .dataframe tbody tr th:only-of-type {\n",
              "        vertical-align: middle;\n",
              "    }\n",
              "\n",
              "    .dataframe tbody tr th {\n",
              "        vertical-align: top;\n",
              "    }\n",
              "\n",
              "    .dataframe thead th {\n",
              "        text-align: right;\n",
              "    }\n",
              "</style>\n",
              "<table border=\"1\" class=\"dataframe\">\n",
              "  <thead>\n",
              "    <tr style=\"text-align: right;\">\n",
              "      <th></th>\n",
              "      <th>Height</th>\n",
              "      <th>Weight</th>\n",
              "      <th>Age</th>\n",
              "      <th>Grip strength</th>\n",
              "      <th>Frailty</th>\n",
              "      <th>Height_m</th>\n",
              "      <th>Weight_kg</th>\n",
              "      <th>BMI</th>\n",
              "      <th>AgeGroup</th>\n",
              "    </tr>\n",
              "  </thead>\n",
              "  <tbody>\n",
              "    <tr>\n",
              "      <th>0</th>\n",
              "      <td>65.8</td>\n",
              "      <td>112</td>\n",
              "      <td>30</td>\n",
              "      <td>30</td>\n",
              "      <td>N</td>\n",
              "      <td>1.67132</td>\n",
              "      <td>50.802345</td>\n",
              "      <td>18.19</td>\n",
              "      <td>30–45</td>\n",
              "    </tr>\n",
              "    <tr>\n",
              "      <th>1</th>\n",
              "      <td>71.5</td>\n",
              "      <td>136</td>\n",
              "      <td>19</td>\n",
              "      <td>31</td>\n",
              "      <td>N</td>\n",
              "      <td>1.81610</td>\n",
              "      <td>61.688562</td>\n",
              "      <td>18.70</td>\n",
              "      <td>&lt;30</td>\n",
              "    </tr>\n",
              "    <tr>\n",
              "      <th>2</th>\n",
              "      <td>69.4</td>\n",
              "      <td>153</td>\n",
              "      <td>45</td>\n",
              "      <td>29</td>\n",
              "      <td>N</td>\n",
              "      <td>1.76276</td>\n",
              "      <td>69.399633</td>\n",
              "      <td>22.33</td>\n",
              "      <td>46–60</td>\n",
              "    </tr>\n",
              "    <tr>\n",
              "      <th>3</th>\n",
              "      <td>68.2</td>\n",
              "      <td>142</td>\n",
              "      <td>22</td>\n",
              "      <td>28</td>\n",
              "      <td>Y</td>\n",
              "      <td>1.73228</td>\n",
              "      <td>64.410117</td>\n",
              "      <td>21.46</td>\n",
              "      <td>&lt;30</td>\n",
              "    </tr>\n",
              "    <tr>\n",
              "      <th>4</th>\n",
              "      <td>67.8</td>\n",
              "      <td>144</td>\n",
              "      <td>29</td>\n",
              "      <td>24</td>\n",
              "      <td>Y</td>\n",
              "      <td>1.72212</td>\n",
              "      <td>65.317301</td>\n",
              "      <td>22.02</td>\n",
              "      <td>&lt;30</td>\n",
              "    </tr>\n",
              "  </tbody>\n",
              "</table>\n",
              "</div>"
            ],
            "text/plain": [
              "   Height  Weight  Age  Grip strength Frailty  Height_m  Weight_kg    BMI  \\\n",
              "0    65.8     112   30             30       N   1.67132  50.802345  18.19   \n",
              "1    71.5     136   19             31       N   1.81610  61.688562  18.70   \n",
              "2    69.4     153   45             29       N   1.76276  69.399633  22.33   \n",
              "3    68.2     142   22             28       Y   1.73228  64.410117  21.46   \n",
              "4    67.8     144   29             24       Y   1.72212  65.317301  22.02   \n",
              "\n",
              "  AgeGroup  \n",
              "0    30–45  \n",
              "1      <30  \n",
              "2    46–60  \n",
              "3      <30  \n",
              "4      <30  "
            ]
          },
          "metadata": {},
          "output_type": "display_data"
        }
      ],
      "source": [
        "# i. BMI = Weight_kg / (Height_m ** 2) (round to 2 decimals).\n",
        "df['BMI'] = (df['Weight_kg'] / (df['Height_m']**2)).round(2)\n",
        "\n",
        "# ii. AgeGroup (categorical): \"<30\", \"30–45\", \"46–60\", \">60\" based on Age_yr.\n",
        "bins = [0, 30, 45, 60, float('inf')]\n",
        "labels = ['<30', '30–45', '46–60', '>60']\n",
        "df['AgeGroup'] = pd.cut(df['Age'], bins=bins, labels=labels, right=False)\n",
        "\n",
        "display(df.head())"
      ]
    },
    {
      "cell_type": "markdown",
      "metadata": {
        "id": "263a1c77"
      },
      "source": [
        "## Categorical to numeric encoding\n",
        "\n",
        "### Subtask:\n",
        "i. Binary encoding: Frailty_binary (Y→1, N→0, store as int8).\n",
        "\n",
        "ii. One‑hot encode AgeGroup into columns: AgeGroup_<30, AgeGroup_30–45,\n",
        "AgeGroup_46–60, AgeGroup_>60\n",
        "d."
      ]
    },
    {
      "cell_type": "code",
      "execution_count": 48,
      "metadata": {
        "colab": {
          "base_uri": "https://localhost:8080/",
          "height": 243
        },
        "id": "84541507",
        "outputId": "910ce24e-e7c6-4dc2-ec1a-9512da04be7e"
      },
      "outputs": [
        {
          "data": {
            "text/html": [
              "<div>\n",
              "<style scoped>\n",
              "    .dataframe tbody tr th:only-of-type {\n",
              "        vertical-align: middle;\n",
              "    }\n",
              "\n",
              "    .dataframe tbody tr th {\n",
              "        vertical-align: top;\n",
              "    }\n",
              "\n",
              "    .dataframe thead th {\n",
              "        text-align: right;\n",
              "    }\n",
              "</style>\n",
              "<table border=\"1\" class=\"dataframe\">\n",
              "  <thead>\n",
              "    <tr style=\"text-align: right;\">\n",
              "      <th></th>\n",
              "      <th>Height</th>\n",
              "      <th>Weight</th>\n",
              "      <th>Age</th>\n",
              "      <th>Grip strength</th>\n",
              "      <th>Frailty</th>\n",
              "      <th>Height_m</th>\n",
              "      <th>Weight_kg</th>\n",
              "      <th>BMI</th>\n",
              "      <th>AgeGroup</th>\n",
              "      <th>Frailty_binary</th>\n",
              "      <th>AgeGroup_30–45</th>\n",
              "      <th>AgeGroup_46–60</th>\n",
              "      <th>AgeGroup_&lt;30</th>\n",
              "    </tr>\n",
              "  </thead>\n",
              "  <tbody>\n",
              "    <tr>\n",
              "      <th>0</th>\n",
              "      <td>65.8</td>\n",
              "      <td>112</td>\n",
              "      <td>30</td>\n",
              "      <td>30</td>\n",
              "      <td>N</td>\n",
              "      <td>1.67132</td>\n",
              "      <td>50.802345</td>\n",
              "      <td>18.19</td>\n",
              "      <td>30–45</td>\n",
              "      <td>0</td>\n",
              "      <td>1.0</td>\n",
              "      <td>0.0</td>\n",
              "      <td>0.0</td>\n",
              "    </tr>\n",
              "    <tr>\n",
              "      <th>1</th>\n",
              "      <td>71.5</td>\n",
              "      <td>136</td>\n",
              "      <td>19</td>\n",
              "      <td>31</td>\n",
              "      <td>N</td>\n",
              "      <td>1.81610</td>\n",
              "      <td>61.688562</td>\n",
              "      <td>18.70</td>\n",
              "      <td>&lt;30</td>\n",
              "      <td>0</td>\n",
              "      <td>0.0</td>\n",
              "      <td>0.0</td>\n",
              "      <td>1.0</td>\n",
              "    </tr>\n",
              "    <tr>\n",
              "      <th>2</th>\n",
              "      <td>69.4</td>\n",
              "      <td>153</td>\n",
              "      <td>45</td>\n",
              "      <td>29</td>\n",
              "      <td>N</td>\n",
              "      <td>1.76276</td>\n",
              "      <td>69.399633</td>\n",
              "      <td>22.33</td>\n",
              "      <td>46–60</td>\n",
              "      <td>0</td>\n",
              "      <td>0.0</td>\n",
              "      <td>1.0</td>\n",
              "      <td>0.0</td>\n",
              "    </tr>\n",
              "    <tr>\n",
              "      <th>3</th>\n",
              "      <td>68.2</td>\n",
              "      <td>142</td>\n",
              "      <td>22</td>\n",
              "      <td>28</td>\n",
              "      <td>Y</td>\n",
              "      <td>1.73228</td>\n",
              "      <td>64.410117</td>\n",
              "      <td>21.46</td>\n",
              "      <td>&lt;30</td>\n",
              "      <td>1</td>\n",
              "      <td>0.0</td>\n",
              "      <td>0.0</td>\n",
              "      <td>1.0</td>\n",
              "    </tr>\n",
              "    <tr>\n",
              "      <th>4</th>\n",
              "      <td>67.8</td>\n",
              "      <td>144</td>\n",
              "      <td>29</td>\n",
              "      <td>24</td>\n",
              "      <td>Y</td>\n",
              "      <td>1.72212</td>\n",
              "      <td>65.317301</td>\n",
              "      <td>22.02</td>\n",
              "      <td>&lt;30</td>\n",
              "      <td>1</td>\n",
              "      <td>0.0</td>\n",
              "      <td>0.0</td>\n",
              "      <td>1.0</td>\n",
              "    </tr>\n",
              "  </tbody>\n",
              "</table>\n",
              "</div>"
            ],
            "text/plain": [
              "   Height  Weight  Age  Grip strength Frailty  Height_m  Weight_kg    BMI  \\\n",
              "0    65.8     112   30             30       N   1.67132  50.802345  18.19   \n",
              "1    71.5     136   19             31       N   1.81610  61.688562  18.70   \n",
              "2    69.4     153   45             29       N   1.76276  69.399633  22.33   \n",
              "3    68.2     142   22             28       Y   1.73228  64.410117  21.46   \n",
              "4    67.8     144   29             24       Y   1.72212  65.317301  22.02   \n",
              "\n",
              "  AgeGroup  Frailty_binary  AgeGroup_30–45  AgeGroup_46–60  AgeGroup_<30  \n",
              "0    30–45               0             1.0             0.0           0.0  \n",
              "1      <30               0             0.0             0.0           1.0  \n",
              "2    46–60               0             0.0             1.0           0.0  \n",
              "3      <30               1             0.0             0.0           1.0  \n",
              "4      <30               1             0.0             0.0           1.0  "
            ]
          },
          "metadata": {},
          "output_type": "display_data"
        }
      ],
      "source": [
        "from sklearn.preprocessing import OneHotEncoder\n",
        "\n",
        "# i. Binary encoding: Frailty_binary (Y→1, N→0, store as int8).\n",
        "df['Frailty_binary'] = df['Frailty'].map({'N': 0, 'Y': 1})\n",
        "\n",
        "# ii. One‑hot encode AgeGroup into columns: AgeGroup_<30, AgeGroup_30–45, AgeGroup_46–60, AgeGroup_>60 d.\n",
        "encoder = OneHotEncoder(sparse_output=False)\n",
        "encoded_age_group = encoder.fit_transform(df[['AgeGroup']])\n",
        "encoded_age_group_df = pd.DataFrame(encoded_age_group, columns=encoder.get_feature_names_out(['AgeGroup']))\n",
        "df = pd.concat([df, encoded_age_group_df], axis=1)\n",
        "\n",
        "display(df.head())"
      ]
    },
    {
      "cell_type": "markdown",
      "metadata": {
        "id": "079f5b57"
      },
      "source": [
        "## EDA & Reporting\n",
        "\n",
        "### Subtask:\n",
        "i. Compute summary table: mean/median/std for numeric columns; save to\n",
        "reports/findings.md .\n",
        "\n",
        "ii. Quantify relation of strength ↔ frailty: compute correlation between Grip_kg\n",
        "and Frailty_binary, and report it.\n"
      ]
    },
    {
      "cell_type": "code",
      "execution_count": 49,
      "metadata": {
        "colab": {
          "base_uri": "https://localhost:8080/"
        },
        "id": "SXdt8rHQJKCZ",
        "outputId": "b8327547-cc44-458b-8450-98e16193a4d6"
      },
      "outputs": [
        {
          "name": "stdout",
          "output_type": "stream",
          "text": [
            "Summary table and correlation reported in results/findings.md\n"
          ]
        }
      ],
      "source": [
        "import os\n",
        "\n",
        "# i. Compute summary table: mean/median/std for numeric columns; save to reports/findings.md .\n",
        "numeric_cols = df.select_dtypes(include=['number'])\n",
        "summary_table = numeric_cols.agg(['mean', 'median', 'std']).T\n",
        "\n",
        "os.makedirs('../results', exist_ok=True)\n",
        "\n",
        "with open('../results/findings.md', 'w') as f:\n",
        "    f.write(\"## Summary Statistics for Numeric Columns\\n\\n\")\n",
        "    f.write(summary_table.to_markdown())\n",
        "\n",
        "# ii. Quantify relation of strength ↔ frailty: compute correlation between Grip_kg and Frailty_binary, and report it.\n",
        "correlation = df['Grip strength'].corr(df['Frailty_binary'])\n",
        "\n",
        "with open('../results/findings.md', 'a') as f:\n",
        "    f.write(\"\\n\\n## Correlation between Grip Strength and Frailty (Binary)\\n\\n\")\n",
        "    f.write(f\"The correlation coefficient is: {correlation:.4f}\\n\")\n",
        "\n",
        "print(\"Summary table and correlation reported in results/findings.md\")"
      ]
    },
    {
      "cell_type": "markdown",
      "metadata": {
        "id": "V5lESeCzK3v7"
      },
      "source": [
        "## 2) Perform the 5 data visualization tasks (given below) on the student performance dataset given in the link below. Each figure: 800×600 px, 300 DPI, title, labeled axes/units, legend if applicable, readable ticks. For each, add a 5–8 sentence interpretation to reports. Before the visualizations (analysis step) you need to perform ingestion stage and preprocessing step (missing values etc.) (10 points).\n"
      ]
    },
    {
      "cell_type": "code",
      "execution_count": null,
      "metadata": {},
      "outputs": [],
      "source": [
        "import pandas as pd\n",
        "import numpy as np\n",
        "import plotly.express as px\n",
        "import plotly.graph_objects as go\n",
        "\n",
        "# --- Load ---\n",
        "df = pd.read_csv(\"../data/StudentsPerformance.csv\")\n",
        "\n",
        "# --- Clean ---\n",
        "df.columns = [c.strip().lower().replace(\" \", \"_\") for c in df.columns]\n",
        "df = df.rename(columns={\n",
        "    \"math_score\":\"math\", \"reading_score\":\"reading\", \"writing_score\":\"writing\",\n",
        "    \"test_preparation_course\":\"test_prep\", \"race/ethnicity\":\"race_ethnicity\"\n",
        "})\n",
        "for c in [\"math\",\"reading\",\"writing\"]:\n",
        "    df[c] = pd.to_numeric(df[c], errors=\"coerce\")\n",
        "df = df.dropna(subset=[\"math\",\"reading\",\"writing\"])\n",
        "df[\"overall_avg\"] = df[[\"math\",\"reading\",\"writing\"]].mean(axis=1)"
      ]
    }
  ],
  "metadata": {
    "colab": {
      "provenance": []
    },
    "kernelspec": {
      "display_name": "base",
      "language": "python",
      "name": "python3"
    },
    "language_info": {
      "codemirror_mode": {
        "name": "ipython",
        "version": 3
      },
      "file_extension": ".py",
      "mimetype": "text/x-python",
      "name": "python",
      "nbconvert_exporter": "python",
      "pygments_lexer": "ipython3",
      "version": "3.12.4"
    }
  },
  "nbformat": 4,
  "nbformat_minor": 0
}
